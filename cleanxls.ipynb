{
 "cells": [
  {
   "cell_type": "code",
   "execution_count": null,
   "metadata": {},
   "outputs": [],
   "source": [
    "load boqxxx.xlsx"
   ]
  },
  {
   "cell_type": "code",
   "execution_count": 1,
   "metadata": {},
   "outputs": [
    {
     "data": {
      "text/html": [
       "<div>\n",
       "<style scoped>\n",
       "    .dataframe tbody tr th:only-of-type {\n",
       "        vertical-align: middle;\n",
       "    }\n",
       "\n",
       "    .dataframe tbody tr th {\n",
       "        vertical-align: top;\n",
       "    }\n",
       "\n",
       "    .dataframe thead th {\n",
       "        text-align: right;\n",
       "    }\n",
       "</style>\n",
       "<table border=\"1\" class=\"dataframe\">\n",
       "  <thead>\n",
       "    <tr style=\"text-align: right;\">\n",
       "      <th></th>\n",
       "      <th>รายการ</th>\n",
       "      <th>จำนวน</th>\n",
       "      <th>หน่วย</th>\n",
       "      <th>ราคาวัสดุ</th>\n",
       "      <th>ค่าแรงงาน</th>\n",
       "    </tr>\n",
       "  </thead>\n",
       "  <tbody>\n",
       "    <tr>\n",
       "      <th>0</th>\n",
       "      <td>งานรื้อถอนและเตรียมพื้นที่</td>\n",
       "      <td>NaN</td>\n",
       "      <td>NaN</td>\n",
       "      <td>NaN</td>\n",
       "      <td>NaN</td>\n",
       "    </tr>\n",
       "    <tr>\n",
       "      <th>1</th>\n",
       "      <td>รื้อถอนโครงสร้างพื้น คาน เสา</td>\n",
       "      <td>1</td>\n",
       "      <td>ตร.ม.</td>\n",
       "      <td>-</td>\n",
       "      <td>250</td>\n",
       "    </tr>\n",
       "    <tr>\n",
       "      <th>2</th>\n",
       "      <td>รื้อถอนเสาโครงสร้าง</td>\n",
       "      <td>1</td>\n",
       "      <td>ต้น</td>\n",
       "      <td>-</td>\n",
       "      <td>1000</td>\n",
       "    </tr>\n",
       "    <tr>\n",
       "      <th>3</th>\n",
       "      <td>รื้อถอนโครงสร้างหลังคา</td>\n",
       "      <td>1</td>\n",
       "      <td>ตร.ม.</td>\n",
       "      <td>-</td>\n",
       "      <td>50</td>\n",
       "    </tr>\n",
       "    <tr>\n",
       "      <th>4</th>\n",
       "      <td>รื้อถอนวัสดุมุง</td>\n",
       "      <td>1</td>\n",
       "      <td>ตร.ม.</td>\n",
       "      <td>-</td>\n",
       "      <td>25</td>\n",
       "    </tr>\n",
       "  </tbody>\n",
       "</table>\n",
       "</div>"
      ],
      "text/plain": [
       "                         รายการ จำนวน  หน่วย ราคาวัสดุ ค่าแรงงาน\n",
       "0    งานรื้อถอนและเตรียมพื้นที่   NaN    NaN       NaN       NaN\n",
       "1  รื้อถอนโครงสร้างพื้น คาน เสา     1  ตร.ม.         -       250\n",
       "2           รื้อถอนเสาโครงสร้าง     1    ต้น         -      1000\n",
       "3        รื้อถอนโครงสร้างหลังคา     1  ตร.ม.         -        50\n",
       "4               รื้อถอนวัสดุมุง     1  ตร.ม.         -        25"
      ]
     },
     "execution_count": 1,
     "metadata": {},
     "output_type": "execute_result"
    }
   ],
   "source": [
    "import pandas as pd\n",
    "\n",
    "# Load the Excel file\n",
    "data = pd.read_excel('boqxxx.xlsx')\n",
    "\n",
    "# Display the first few rows of the data\n",
    "data.head()"
   ]
  },
  {
   "cell_type": "code",
   "execution_count": null,
   "metadata": {},
   "outputs": [
    {
     "name": "stdout",
     "output_type": "stream",
     "text": [
      "                                        รายการ จำนวน หน่วย ราคาวัสดุ ค่าแรงงาน\n",
      "0                   งานรื้อถอนและเตรียมพื้นที่   NaN   NaN       NaN       NaN\n",
      "5                             ราคารวมงานหมวด 1   NaN   NaN       NaN       NaN\n",
      "6           งานโครงสร้างเสาเข็ม เสาตอม่อและเสา   NaN   NaN       NaN       NaN\n",
      "15                           เหล็กเสริมคอนกรีต   NaN   NaN       NaN       NaN\n",
      "22                            ราคารวมงานหมวด 2   NaN   NaN       NaN       NaN\n",
      "..                                         ...   ...   ...       ...       ...\n",
      "338     อุปกรณ์สำหรับความปลอดภัยเบื้องต้นสถานี   NaN   NaN       NaN       NaN\n",
      "344                          งานเดินท่อเมนแก๊ส   NaN   NaN       NaN       NaN\n",
      "351  งานติดตั้งชุด Motor Device Shut Off Valve   NaN   NaN       NaN       NaN\n",
      "356      งานทดสอบและติดตั้งสถานีพร้อมระบบไฟฟ้า   NaN   NaN       NaN       NaN\n",
      "359                                 งานรื้อถอน   NaN   NaN       NaN       NaN\n",
      "\n",
      "[99 rows x 5 columns]\n"
     ]
    }
   ],
   "source": [
    "# Filter rows where column 'จำนวน' has no data (NaN)\n",
    "no_data_rows = data[data['จำนวน'].isna()]\n",
    "\n",
    "# Print the rows\n",
    "print(no_data_rows)\n"
   ]
  },
  {
   "cell_type": "code",
   "execution_count": null,
   "metadata": {},
   "outputs": [],
   "source": []
  },
  {
   "cell_type": "code",
   "execution_count": null,
   "metadata": {},
   "outputs": [],
   "source": [
    "data = data.drop(no_data_rows.index)"
   ]
  },
  {
   "cell_type": "code",
   "execution_count": 6,
   "metadata": {},
   "outputs": [],
   "source": [
    "data = data.drop(no_data_rows.index)\n",
    "data.to_excel('boq_clean.xlsx', index=False)"
   ]
  }
 ],
 "metadata": {
  "kernelspec": {
   "display_name": "base",
   "language": "python",
   "name": "python3"
  },
  "language_info": {
   "codemirror_mode": {
    "name": "ipython",
    "version": 3
   },
   "file_extension": ".py",
   "mimetype": "text/x-python",
   "name": "python",
   "nbconvert_exporter": "python",
   "pygments_lexer": "ipython3",
   "version": "3.12.7"
  }
 },
 "nbformat": 4,
 "nbformat_minor": 2
}
